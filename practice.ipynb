{
 "cells": [
  {
   "cell_type": "code",
   "execution_count": 1,
   "metadata": {},
   "outputs": [
    {
     "name": "stdout",
     "output_type": "stream",
     "text": [
      "enter a number5\n",
      "enter a number2\n",
      "7\n",
      "2\n"
     ]
    }
   ],
   "source": [
    "#Q1\n",
    "a=eval(input(\"enter a number\"))\n",
    "b=eval(input(\"enter a number\"))\n",
    "sum=a+b\n",
    "avg=int(a/b)\n",
    "print(sum)\n",
    "print(avg)"
   ]
  },
  {
   "cell_type": "code",
   "execution_count": null,
   "metadata": {},
   "outputs": [],
   "source": [
    "#Q1\n",
    "a=eval(input(\"enter a number\"))\n",
    "b=eval(input(\"enter a number\"))\n",
    "sum=a+b\n",
    "avg=int(a/b)\n",
    "print(sum)\n",
    "print(avg)"
   ]
  },
  {
   "cell_type": "code",
   "execution_count": 3,
   "metadata": {},
   "outputs": [
    {
     "name": "stdout",
     "output_type": "stream",
     "text": [
      "Enter a list numbers or elements separated by space: 1 2 3 4 5 6\n",
      "user list is  ['1', '2', '3', '4', '5', '6']\n",
      "[1, 2, 3, 4]\n"
     ]
    }
   ],
   "source": [
    "#Q2\n",
    "input_string = (input(\"Enter a list numbers or elements separated by space: \"))\n",
    "userList = input_string.split()\n",
    "print(\"user list is \", userList)\n",
    "new_list=[]\n",
    "for item in userList:\n",
    "    temp = int(item)\n",
    "    if temp < 5:\n",
    "        new_list.append(temp)\n",
    "        \n",
    "print(new_list)\n",
    "    \n",
    "    "
   ]
  },
  {
   "cell_type": "code",
   "execution_count": 8,
   "metadata": {},
   "outputs": [
    {
     "name": "stdout",
     "output_type": "stream",
     "text": [
      "enter a num20\n",
      "its even and div by 10\n"
     ]
    }
   ],
   "source": [
    "#q3\n",
    "\n",
    "a=eval(input(\"enter a num\"))\n",
    "if(a%10==0):\n",
    "    print(\"its even and div by 10\")\n",
    "elif(a%2==0):\n",
    "    print(\"its even\")\n",
    "else:\n",
    "    print(\"its odd\")"
   ]
  },
  {
   "cell_type": "code",
   "execution_count": 9,
   "metadata": {},
   "outputs": [
    {
     "name": "stdout",
     "output_type": "stream",
     "text": [
      "9\n",
      "11\n",
      "13\n",
      "15\n",
      "17\n",
      "19\n",
      "21\n",
      "23\n",
      "25\n",
      "27\n",
      "29\n",
      "31\n",
      "33\n",
      "35\n",
      "37\n",
      "39\n"
     ]
    }
   ],
   "source": [
    "#q5\n",
    "for i in range(4,20):\n",
    "    sum=i+(i+1)\n",
    "    print(sum)"
   ]
  },
  {
   "cell_type": "code",
   "execution_count": 14,
   "metadata": {},
   "outputs": [
    {
     "name": "stdout",
     "output_type": "stream",
     "text": [
      "enter a alphabet\"o\"\n",
      "o\n"
     ]
    }
   ],
   "source": [
    "#q6\n",
    "var=eval(input(\"enter a alphabet\"))\n",
    "if var in('a','e','i','o','u','A','E','I','O','U'):\n",
    "    print(var)"
   ]
  },
  {
   "cell_type": "code",
   "execution_count": 19,
   "metadata": {},
   "outputs": [
    {
     "name": "stdout",
     "output_type": "stream",
     "text": [
      "enter a wordakash\n",
      "a\n",
      "a\n",
      "h\n"
     ]
    }
   ],
   "source": [
    "#q7\n",
    "str=input('enter a word')\n",
    "length=len(str)\n",
    "for i in range(0,length,2):\n",
    "    print(str[i])\n",
    "  "
   ]
  },
  {
   "cell_type": "markdown",
   "metadata": {},
   "source": [
    "\n",
    "\n",
    "\n"
   ]
  },
  {
   "cell_type": "code",
   "execution_count": null,
   "metadata": {},
   "outputs": [],
   "source": []
  },
  {
   "cell_type": "code",
   "execution_count": 30,
   "metadata": {},
   "outputs": [],
   "source": [
    "#q24\n",
    "def si():\n",
    "    r=8\n",
    "    n=int(input(\"enter the num of yrs\"))\n",
    "    p=int(input(\"enter the amount\"))\n",
    "    si=(p*n*r)/100\n",
    "    print(si)\n"
   ]
  },
  {
   "cell_type": "code",
   "execution_count": null,
   "metadata": {},
   "outputs": [],
   "source": [
    "\n"
   ]
  },
  {
   "cell_type": "code",
   "execution_count": 31,
   "metadata": {},
   "outputs": [
    {
     "name": "stdout",
     "output_type": "stream",
     "text": [
      "enter the num of yrs2\n",
      "enter the amount300\n",
      "48.0\n"
     ]
    }
   ],
   "source": [
    "#q24\n",
    "si()"
   ]
  },
  {
   "cell_type": "code",
   "execution_count": 83,
   "metadata": {},
   "outputs": [
    {
     "name": "stdout",
     "output_type": "stream",
     "text": [
      "the tuple is  (1, 2, 3, 4, 5)\n",
      "the min value is  1\n",
      "the max value is  5\n"
     ]
    }
   ],
   "source": [
    "#q23\n",
    "\n",
    "list1 = [1,2,3,3,4,5]\n",
    "list2 = []\n",
    "tuple1= ()\n",
    "for num in list1:\n",
    "    if num not in list2:\n",
    "        list2.append(num)\n",
    "tuple1=tuple(list2)\n",
    "print(\"the tuple is \",tuple1)\n",
    "length=len(tuple1)\n",
    "sorted(tuple1)\n",
    "print(\"the min value is \",tuple1[0])\n",
    "print(\"the max value is \",tuple1[length-1])"
   ]
  },
  {
   "cell_type": "code",
   "execution_count": 80,
   "metadata": {},
   "outputs": [],
   "source": [
    "del tuple"
   ]
  },
  {
   "cell_type": "code",
   "execution_count": null,
   "metadata": {},
   "outputs": [],
   "source": []
  }
 ],
 "metadata": {
  "kernelspec": {
   "display_name": "Python 3",
   "language": "python",
   "name": "python3"
  },
  "language_info": {
   "codemirror_mode": {
    "name": "ipython",
    "version": 3
   },
   "file_extension": ".py",
   "mimetype": "text/x-python",
   "name": "python",
   "nbconvert_exporter": "python",
   "pygments_lexer": "ipython3",
   "version": "3.7.4"
  }
 },
 "nbformat": 4,
 "nbformat_minor": 2
}
