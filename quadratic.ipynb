{
 "cells": [
  {
   "cell_type": "code",
   "execution_count": null,
   "metadata": {},
   "outputs": [],
   "source": []
  },
  {
   "cell_type": "code",
   "execution_count": 28,
   "metadata": {},
   "outputs": [
    {
     "name": "stdout",
     "output_type": "stream",
     "text": [
      "enter the string4x*x+4x+10\n",
      "4x*x 4x 10\n",
      "4\n",
      "4\n",
      "4 4 10\n",
      "two distinct complex roots:r1=-0.50+1.50 and r2 =-0.50-1.50\n"
     ]
    }
   ],
   "source": [
    "import math\n",
    "eqn=input(\"enter the string\")\n",
    "k=eqn.split('+')\n",
    "print(k[0],k[1],k[2])\n",
    "l=k[0].split('x')\n",
    "print(l[0])\n",
    "m=k[1].split('x')\n",
    "print(m[0])\n",
    "a=int(l[0])\n",
    "b=int(m[0])\n",
    "c=int(k[2])\n",
    "print(a,b,j)\n",
    "disc=(b*b)-(4*a*c)\n",
    "if(disc>0):\n",
    "    r1=(-b+math.sqrt(disc)/(2*a))\n",
    "    r2=(-b-math.sqrt(disc)/(2*a))\n",
    "    print(\"two distinct real roots:r1=%.2f and r2=%.2f\"%(r1,r2))\n",
    "elif(disc==0):\n",
    "    r1=r2=-b/(2*a)\n",
    "    print(\"two equal and real roots:r1=%.2f and r2=%.2f\"%(r1,r2))\n",
    "elif(disc<0):\n",
    "    r1=r2=-b/(2*a)\n",
    "    imaginary=math.sqrt(-disc)/(2*a)\n",
    "    print(\"two distinct complex roots:r1=%.2f+%.2f and r2 =%.2f-%.2f\"%(r1,imaginary,r2,imaginary))\n",
    "\n"
   ]
  },
  {
   "cell_type": "code",
   "execution_count": null,
   "metadata": {},
   "outputs": [],
   "source": []
  }
 ],
 "metadata": {
  "kernelspec": {
   "display_name": "Python 3",
   "language": "python",
   "name": "python3"
  },
  "language_info": {
   "codemirror_mode": {
    "name": "ipython",
    "version": 3
   },
   "file_extension": ".py",
   "mimetype": "text/x-python",
   "name": "python",
   "nbconvert_exporter": "python",
   "pygments_lexer": "ipython3",
   "version": "3.7.4"
  }
 },
 "nbformat": 4,
 "nbformat_minor": 2
}
